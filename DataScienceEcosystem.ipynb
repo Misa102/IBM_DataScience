{
 "cells": [
  {
   "cell_type": "markdown",
   "id": "db616ac0-3f6d-4e9b-adfb-0f8df0b44053",
   "metadata": {},
   "source": [
    "# Data Science Tools and Ecosystem"
   ]
  },
  {
   "cell_type": "markdown",
   "id": "39f82463-c402-4768-92a2-edc36a499062",
   "metadata": {},
   "source": [
    "### In this notebook, Data Science Tools and Ecosystem are summarized."
   ]
  },
  {
   "cell_type": "markdown",
   "id": "2d5d315c-0d80-4f81-92bd-8cfb2beb9791",
   "metadata": {},
   "source": [
    "#### Some of the popular languages that Data Scientists use are:\n",
    "1. Python\n",
    "2. R\n",
    "3. Java\n",
    "4. Julia\n",
    "5. Scala\n",
    "6. SQL"
   ]
  },
  {
   "cell_type": "markdown",
   "id": "f09b07a8-7fe6-4b03-985e-27ca46f834af",
   "metadata": {},
   "source": [
    "#### Some of the commonly used libraries used by Data Scientists include:\n",
    "\n",
    "1. TensorFlow.\n",
    "2. NumPy.\n",
    "3. SciPy.\n",
    "4. Pandas.\n",
    "5. Matplotlib.\n",
    "6. Keras.\n",
    "7. SciKit-Learn.\n",
    "8. PyTorch.\n",
    "9. Scrapy.\n",
    "10. PyBrain.\n"
   ]
  },
  {
   "cell_type": "markdown",
   "id": "ed020370-e306-478c-baf3-4e0b91b20679",
   "metadata": {},
   "source": [
    "###### Table of Data Science Tools\n",
    "\n",
    "|Data Science Tools|\n",
    "|------------------|\n",
    "|SAS|\n",
    "|Apache Spark|\n",
    "|BigML|"
   ]
  },
  {
   "cell_type": "markdown",
   "id": "8e53f5ff-0173-49b2-b134-9f3c135e9541",
   "metadata": {},
   "source": [
    "### Below are a few examples of evaluating arithmetic expressions in Python"
   ]
  },
  {
   "cell_type": "markdown",
   "id": "83a1e884-8594-47bc-806c-c926a128ae00",
   "metadata": {},
   "source": [
    "$\\hat{Y} = \\hat{\\beta}_{0} + \\sum \\limits _{j=1} ^{p} X_{j}\\hat{\\beta}_{j} $\n"
   ]
  },
  {
   "cell_type": "markdown",
   "id": "214f0905-1799-411a-85df-5373f75810ef",
   "metadata": {},
   "source": [
    "\\$\\sqrt{k-5x + 2}$ "
   ]
  },
  {
   "cell_type": "markdown",
   "id": "8064d85c-6185-409a-8c34-31341efa7ee2",
   "metadata": {
    "tags": []
   },
   "source": [
    "<p> This a simple arithmetic expression to mutiply then add integers</p>"
   ]
  },
  {
   "cell_type": "code",
   "execution_count": 6,
   "id": "294a19e2-7070-4992-8cbf-ee46fa2e79c2",
   "metadata": {
    "tags": []
   },
   "outputs": [
    {
     "data": {
      "text/plain": [
       "17"
      ]
     },
     "execution_count": 6,
     "metadata": {},
     "output_type": "execute_result"
    }
   ],
   "source": [
    "(3*4)+5\n",
    "# Result: 17"
   ]
  },
  {
   "cell_type": "markdown",
   "id": "8b5b8787-6297-489d-89f0-52f93ad64814",
   "metadata": {
    "tags": []
   },
   "source": [
    "<p> This will convert 200 minutes to hours by diving by 60.</p>"
   ]
  },
  {
   "cell_type": "code",
   "execution_count": 4,
   "id": "acfbf467-c852-4f28-a1c5-6c786aae40f2",
   "metadata": {
    "tags": []
   },
   "outputs": [
    {
     "name": "stdout",
     "output_type": "stream",
     "text": [
      "0 days, 3.3333333333333335 hours, 0 mins. \n"
     ]
    }
   ],
   "source": [
    "days = 0\n",
    "hours = 0\n",
    "mins = 0\n",
    "\n",
    "time = 200\n",
    "#days = time / 1440\n",
    "leftover_minutes = time % 1440\n",
    "hours = leftover_minutes / 60\n",
    "print(str(days) + \" days, \" + str(hours) + \" hours, \" + str(mins) +  \" mins. \")\n",
    "# Result: 3.3333333333333335 hours"
   ]
  },
  {
   "cell_type": "markdown",
   "id": "ebf0a29d-6f33-4985-96b5-a2235a7b7d64",
   "metadata": {},
   "source": [
    "**Objectives: Learn then data science programming languages** \n",
    "* Python\n",
    "* R\n",
    "* Scala\n",
    "* SQL"
   ]
  },
  {
   "cell_type": "markdown",
   "id": "f87054d6-b3ec-4bc6-a0bd-c303457ae4a4",
   "metadata": {},
   "source": [
    "## Author <p> Nhu HO</p>\n"
   ]
  },
  {
   "cell_type": "code",
   "execution_count": null,
   "id": "c82f18a1-72c7-4595-912b-ed5732291442",
   "metadata": {},
   "outputs": [],
   "source": []
  }
 ],
 "metadata": {
  "kernelspec": {
   "display_name": "Python",
   "language": "python",
   "name": "conda-env-python-py"
  },
  "language_info": {
   "codemirror_mode": {
    "name": "ipython",
    "version": 3
   },
   "file_extension": ".py",
   "mimetype": "text/x-python",
   "name": "python",
   "nbconvert_exporter": "python",
   "pygments_lexer": "ipython3",
   "version": "3.7.12"
  }
 },
 "nbformat": 4,
 "nbformat_minor": 5
}
